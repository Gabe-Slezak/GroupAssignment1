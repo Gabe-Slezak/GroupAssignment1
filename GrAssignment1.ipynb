{
  "nbformat": 4,
  "nbformat_minor": 0,
  "metadata": {
    "kernelspec": {
      "display_name": "Python 3",
      "language": "python",
      "name": "python3"
    },
    "language_info": {
      "codemirror_mode": {
        "name": "ipython",
        "version": 3
      },
      "file_extension": ".py",
      "mimetype": "text/x-python",
      "name": "python",
      "nbconvert_exporter": "python",
      "pygments_lexer": "ipython3",
      "version": "3.7.3"
    },
    "colab": {
      "name": "GrAssignment1.ipynb",
      "provenance": [],
      "include_colab_link": true
    }
  },
  "cells": [
    {
      "cell_type": "markdown",
      "metadata": {
        "id": "view-in-github",
        "colab_type": "text"
      },
      "source": [
        "<a href=\"https://colab.research.google.com/github/Gabe-Slezak/GroupAssignment1/blob/master/GrAssignment1.ipynb\" target=\"_parent\"><img src=\"https://colab.research.google.com/assets/colab-badge.svg\" alt=\"Open In Colab\"/></a>"
      ]
    },
    {
      "cell_type": "markdown",
      "metadata": {
        "id": "B-6wRfHA_N_6",
        "colab_type": "text"
      },
      "source": [
        "# Database Ideas"
      ]
    },
    {
      "cell_type": "markdown",
      "metadata": {
        "id": "WQY6QZqz_N_8",
        "colab_type": "text"
      },
      "source": [
        "##  1. Ski Shop -\n",
        "        a. The idea - An all seasons “resort” store. The store will consist of equipment that could either be purchased or rented for use at the nearby resorts. For example, in the winter the store will consist of skis, snowboards, boots, poles, jackets, pants, hats, gloves, etc.  \n",
        "        \n",
        "        b. What makes the idea unique - At our store, not only would there be trained personnel for fitting customers to their equipment, but we also have a year round shop that doesn’t focus on one season/sport. What makes our business unique is the training location around back. The training location will consist of two small slopes for training for both the snow sports and summer sports. Typically when people rent equipment from our store, they are either trying it for the first time, or are trying to make sure they enjoy it before they go out and buy equipment of their own. Either way, there are going to be customers who may need some guidance before they hit the mountain. Of course, there are going to be people who are interested in trying these sports to see if they like them before going out onto the mountain. This option will be available, however, sif the customer does not rent the equipment, they will pay full price to use the training facility. Customers that do end up renting or buying equipment from our store will only pay a small fee for use of the facility. \n",
        "\n",
        "        c.Brand-new or borrowed - Borrowed but with a twist. Our ski shop is an enhanced version of a normal retail shop aiming to provide customers with more ways to choose the product and they want, our service staff will guide customers step by step to know their needs. Our aim is to provide each customer with the item they want, and make the customers happy about their purchase.\n",
        "        \n",
        "        d. A typical Day in the business - For example, a customer comes in the store in the winter time. The customer plans on going to the ski resort just up the road from the shop, however, they do not have any equipment. Our skilled staff ,with immense knowledge of the equipment, would greet them and ask them what their needs/wants are. From there the staff member would fit them with the proper equipment based off of their height/weight, skill level, and style. The customer would then try on all of the equipment and fill out all necessary forms. If a training session is needed or they want to try out the equipment before they spend the money on it, they are free to use the facility in the back. The customer will then take their equipment and head to the mountain. Customer will return the items within 24 hours, either during store hours, or on the designated bins when the store is closed. \n",
        "        \n",
        "        e. Entities/Attributes - Entities will include, snowboards, skis, boots for both of those, hats, gloves, jackets, pants, socks, mountain bikes, street bikes, bike parts, bike gloves. Attributes will include different specifications of each of the entities, such as: weight, durability, binding types, weather resistance, etc. Our staff will also be counted as a attribute to our customers because their service and how professional they act will directly impact our customer's experience.\n",
        "        Table 1 - Pricing lists (Listing entities and their respecive prices)\n",
        "        Table 2 - Types of products (Listing various type of products we have)\n",
        "        Table 3 - List of customers and the time it has passed since they borrowed the equipment.\n",
        "        Table 4 - Training yard availability\n",
        "        Table 5 - Best selling products.\n",
        "\n",
        "\n",
        "\n",
        "\n",
        "\n"
      ]
    },
    {
      "cell_type": "markdown",
      "metadata": {
        "id": "NfXKprlu_N_9",
        "colab_type": "text"
      },
      "source": [
        "## 2. Housing Options -\n",
        "        On campus housing options is one of our ideas. We will have four tables that include the location of the building, age of the building, type of housing, and who they would like to live with, if anyone. The location of the building could be in North, South, East, or West. The age of the building would provide students with the option to live in renovated or unrenovated. The type of housing could be single, double, quad, or supplemental. Lastly, the student would be able to select whether they will have a roommate, a specific person they have chosen, or a random person before they submit their request. We will use the last table to collect customer preferences. \n",
        "        \n",
        "        I think this idea is unique because it is one that everyone is familiar with since most students in this classroom have experienced all of the different types of housing options on campus. This will make it easier to understand when our fellow classmates are looking at it. In addition, I know it is sometimes hard to see all of the different options when looking through Penn State's database. This idea may be able to provide some useful, real world clarity. This product is not brand new, it is borrowed from Penn State University. A typical business interaction would usually only happen once or twice a year. Students would apply to live in Penn State housing. \n",
        "        \n",
        "        They would then make the choice of which location they would prefer. They would then choose the age of the building they would like to live in and the type of housing they would like. Their final choice would be who they want to live with if anyone. At the end, they would have their housing option preferences. The goal for this project is to figure out which housing option is most popular. This data can be used when building new dorms around campus. I will use the location of the building, the age of the building, and the type of the building to answer this question.\n"
      ]
    },
    {
      "cell_type": "markdown",
      "metadata": {
        "id": "Zo1X0kZG_N_-",
        "colab_type": "text"
      },
      "source": [
        "## 3. Search Engine -\n",
        "        We can list search engine data that are easy to access by users, this could be an extension that you can install that will work on top of your browser and list information about the top 10 links the results have came up with, we will have 5 categories: \n",
        "    1.Real time search engine type user amount, this can be listed in a pie chart top right corner (Google, Firefox, Microsoft Edge etc…) \n",
        "    2. The amount of advertisements in each link provided.\n",
        "    3. Word count in each link provided, I feel like this is important because sometimes users are looking for a quick and concise answer while some users are looking for more detailed explanations on their searches.\n",
        "    4.The amount of trustworthy referencing links both coming out and towards a link, this is important because lots of referencing links towards a link means this link is respected and held in high standard by many websites, while a website referencing a lot of outside links might guide users to finding more detailed info.\n",
        "    5.(Real time end user data), we will list the click amount on each link for the same keyword searches provided by other users (For example, if you searched for “Spanish Help”, the links will have a click amount performed by other user that have also searched for “Spanish help”.)\n",
        "\n",
        "What makes this Unique? I believe there are no other extensions such as this as far as I am aware of, but there have been similar extensions that has parts of the functionality (Such as adblock displays the amount of ads on each website.)\n",
        "\n",
        "A typical business interaction would just be a user searching for a keyword with the extension installed and enabled.\n",
        "\n",
        "Entities: Search engines, users, search results.\n",
        "\n",
        "Attributes: Search engine users, user location and frequently used websites, and frequently showed up search results.\n",
        "\n",
        "Constraints: Some users can turn off Cookie to prevent the collection of data.\n",
        "\n",
        "Goal: This extension can be used by many businesses for Search Engine Optimization, for casual users, this can also list info to help them find the results they want to find before they click on a link.\n"
      ]
    },
    {
      "cell_type": "markdown",
      "metadata": {
        "id": "gd9biC17t6d9",
        "colab_type": "text"
      },
      "source": [
        " ## Expanded Idea 1 （Ski Shop）:\n",
        " \n",
        "  The idea we went with is our All Seasons Resort Store. The store will consist of equipment that could either be purchased or rented for use at the nearby resorts. For example, in the winter the store will consist of skis, snowboards, boots, poles, jackets, pants, hats, gloves, etc. In the Summer, we will have mountain bikes, hiking gear, rock clibming gear, helmets, etc.\n",
        "        \n",
        "  Our idea is very unique. At our store, not only will there be trained personnel for fitting customers to their equipment, but we also have a year round shop that doesn’t focus on one season/sport. What makes our business unique is the training location around back. The training location will consist of two small slopes for training for both the snow sports and summer sports. Typically when people rent equipment from our store, they are either trying it for the first time, or are trying to make sure they enjoy it before they go out and buy equipment of their own. Either way, there are going to be customers who may need some guidance before they hit the mountain. Our idea is also unique because we give the customer to rent the equipment for a discounted price or pay full price for the equipment to keep forever. No matter if the customers choose to rent or buy from our store, they will pay a small fee if they choose to use the facility. \n",
        "\n",
        "  Our idea is borrowed in the sense that these stores exist, but we made sure to add our own twist.\n",
        "        \n",
        "  A typical day in the business is one that is easy going for the employees and leaves our customers satisfied. For example, a customer comes into the store in the winter time. The customer plans on going to the ski resort just up the road from the shop, however, they do not have any equipment. Our skilled staff , with immense knowledge of the equipment, would greet them and ask them what their needs/wants are. From there the staff member would fit them with the proper equipment based off of their height/weight, skill level, and style. The customer would then try on all of the equipment and fill out all necessary forms. If a training session is needed or they want to try out the equipment before they spend the money on it, they are free to use the facility in the back. The customer will then take their equipment and head to the mountain. The customer will be required to return the items within 24 hours, either during store hours, or in the designated bins when the store is closed. \n",
        "        \n",
        "  Entities will include, snowboards, skis, snowboard boots, ski boots, hats, gloves, jackets, pants, socks, mountain bikes, street bikes, bike parts, bike gloves. Attributes will include different specifications of each of the entities, such as weight, durability, binding types, weather resistance, etc. \n",
        "\n",
        "List of Tables:\n",
        "\n",
        "Table 1 - items at their purchase cost \n",
        "\n",
        "Table 2 - items at their rental cost\n",
        "\n",
        "Table 3 - slopes in the training facility (slope one or two)\n",
        "\n",
        "Table 4 - employees that provide fittings\n",
        "\n",
        "Table 5 - customer purchases\n",
        "\n",
        "The goal for this project is to figure out which brings in more revenue, renting or purchasing equipment. I will use tables \"items at their purchase cost\" and \"items at their rental cost\" to answer this question."
      ]
    },
    {
      "cell_type": "code",
      "metadata": {
        "id": "8FHnLtB4nC49",
        "colab_type": "code",
        "colab": {}
      },
      "source": [
        ""
      ],
      "execution_count": 0,
      "outputs": []
    },
    {
      "cell_type": "markdown",
      "metadata": {
        "id": "YdVJ3ZIpnDOs",
        "colab_type": "text"
      },
      "source": [
        ""
      ]
    }
  ]
}